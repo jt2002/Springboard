{
 "cells": [
  {
   "cell_type": "markdown",
   "metadata": {},
   "source": [
    "## Exploratory Data Analysis (EDA)"
   ]
  },
  {
   "cell_type": "code",
   "execution_count": 145,
   "metadata": {},
   "outputs": [],
   "source": [
    "import pandas as pd\n",
    "import numpy as np\n",
    "\n",
    "import matplotlib.pyplot as plt\n",
    "import seaborn as sns\n",
    "\n",
    "sns.set()\n",
    "%matplotlib inline"
   ]
  },
  {
   "cell_type": "markdown",
   "metadata": {},
   "source": [
    "### Data Attributes\n",
    "- overall - rating of the product\n",
    "- verified\n",
    "- reviewTime - time of the review (raw)\n",
    "- reviewerID - ID of the reviewer, e.g. A2SUAM1J3GNN3B\n",
    "- asin - ID of the product, e.g. 0000013714 or 0001713353\n",
    "- style - a disctionary of the product metadata, e.g., \"Format\" is \"Hardcover\"\n",
    "- reviewerName - name of the reviewer\n",
    "- reviewText - text of the review\n",
    "- summary - summary of the review\n",
    "- unixReviewTime - time of the review (unix time)\n",
    "- vote - helpful votes of the review\n",
    "- image - images that users post after they have received the product\n",
    "\n",
    "Search product from `Amazon.com` website, e.g. 0001713353.  Then, sort review by \"Most recent\" and look for reviewTime."
   ]
  },
  {
   "cell_type": "markdown",
   "metadata": {},
   "source": [
    "### Import data in JSON and fix column names\n",
    "- Use only 1000 lines for now"
   ]
  },
  {
   "cell_type": "code",
   "execution_count": 371,
   "metadata": {},
   "outputs": [
    {
     "data": {
      "text/html": [
       "<div>\n",
       "<style scoped>\n",
       "    .dataframe tbody tr th:only-of-type {\n",
       "        vertical-align: middle;\n",
       "    }\n",
       "\n",
       "    .dataframe tbody tr th {\n",
       "        vertical-align: top;\n",
       "    }\n",
       "\n",
       "    .dataframe thead th {\n",
       "        text-align: right;\n",
       "    }\n",
       "</style>\n",
       "<table border=\"1\" class=\"dataframe\">\n",
       "  <thead>\n",
       "    <tr style=\"text-align: right;\">\n",
       "      <th></th>\n",
       "      <th>overall</th>\n",
       "      <th>verified</th>\n",
       "      <th>review_time</th>\n",
       "      <th>reviewer_id</th>\n",
       "      <th>asin</th>\n",
       "      <th>style</th>\n",
       "      <th>reviewer_name</th>\n",
       "      <th>review_text</th>\n",
       "      <th>summary</th>\n",
       "      <th>unix_review_time</th>\n",
       "      <th>vote</th>\n",
       "      <th>image</th>\n",
       "    </tr>\n",
       "  </thead>\n",
       "  <tbody>\n",
       "    <tr>\n",
       "      <th>0</th>\n",
       "      <td>5</td>\n",
       "      <td>False</td>\n",
       "      <td>03 30, 2005</td>\n",
       "      <td>A1REUF3A1YCPHM</td>\n",
       "      <td>1713353</td>\n",
       "      <td>{'Format:': ' Hardcover'}</td>\n",
       "      <td>TW Ervin II</td>\n",
       "      <td>The King, the Mice and the Cheese by Nancy Gur...</td>\n",
       "      <td>A story children will love and learn from</td>\n",
       "      <td>1112140800</td>\n",
       "      <td>NaN</td>\n",
       "      <td>NaN</td>\n",
       "    </tr>\n",
       "    <tr>\n",
       "      <th>1</th>\n",
       "      <td>5</td>\n",
       "      <td>True</td>\n",
       "      <td>06 20, 2016</td>\n",
       "      <td>AVP0HXC9FG790</td>\n",
       "      <td>1713353</td>\n",
       "      <td>NaN</td>\n",
       "      <td>Amazon Customer</td>\n",
       "      <td>The kids loved it!</td>\n",
       "      <td>Five Stars</td>\n",
       "      <td>1466380800</td>\n",
       "      <td>NaN</td>\n",
       "      <td>NaN</td>\n",
       "    </tr>\n",
       "    <tr>\n",
       "      <th>2</th>\n",
       "      <td>5</td>\n",
       "      <td>True</td>\n",
       "      <td>01 24, 2016</td>\n",
       "      <td>A324TTUBKTN73A</td>\n",
       "      <td>1713353</td>\n",
       "      <td>{'Format:': ' Paperback'}</td>\n",
       "      <td>Tekla Borner</td>\n",
       "      <td>My students (3 &amp; 4 year olds) loved this book!...</td>\n",
       "      <td>Five Stars</td>\n",
       "      <td>1453593600</td>\n",
       "      <td>NaN</td>\n",
       "      <td>NaN</td>\n",
       "    </tr>\n",
       "    <tr>\n",
       "      <th>3</th>\n",
       "      <td>5</td>\n",
       "      <td>False</td>\n",
       "      <td>07 9, 2015</td>\n",
       "      <td>A2RE7WG349NV5D</td>\n",
       "      <td>1713353</td>\n",
       "      <td>{'Format:': ' Paperback'}</td>\n",
       "      <td>Deborah K Woroniecki</td>\n",
       "      <td>LOVE IT</td>\n",
       "      <td>Five Stars</td>\n",
       "      <td>1436400000</td>\n",
       "      <td>NaN</td>\n",
       "      <td>NaN</td>\n",
       "    </tr>\n",
       "    <tr>\n",
       "      <th>4</th>\n",
       "      <td>5</td>\n",
       "      <td>True</td>\n",
       "      <td>01 18, 2015</td>\n",
       "      <td>A32B7QIUDQCD0E</td>\n",
       "      <td>1713353</td>\n",
       "      <td>NaN</td>\n",
       "      <td>E</td>\n",
       "      <td>Great!</td>\n",
       "      <td>Five Stars</td>\n",
       "      <td>1421539200</td>\n",
       "      <td>NaN</td>\n",
       "      <td>NaN</td>\n",
       "    </tr>\n",
       "  </tbody>\n",
       "</table>\n",
       "</div>"
      ],
      "text/plain": [
       "   overall  verified  review_time     reviewer_id     asin  \\\n",
       "0        5     False  03 30, 2005  A1REUF3A1YCPHM  1713353   \n",
       "1        5      True  06 20, 2016   AVP0HXC9FG790  1713353   \n",
       "2        5      True  01 24, 2016  A324TTUBKTN73A  1713353   \n",
       "3        5     False   07 9, 2015  A2RE7WG349NV5D  1713353   \n",
       "4        5      True  01 18, 2015  A32B7QIUDQCD0E  1713353   \n",
       "\n",
       "                       style         reviewer_name  \\\n",
       "0  {'Format:': ' Hardcover'}           TW Ervin II   \n",
       "1                        NaN       Amazon Customer   \n",
       "2  {'Format:': ' Paperback'}          Tekla Borner   \n",
       "3  {'Format:': ' Paperback'}  Deborah K Woroniecki   \n",
       "4                        NaN                     E   \n",
       "\n",
       "                                         review_text  \\\n",
       "0  The King, the Mice and the Cheese by Nancy Gur...   \n",
       "1                                 The kids loved it!   \n",
       "2  My students (3 & 4 year olds) loved this book!...   \n",
       "3                                            LOVE IT   \n",
       "4                                             Great!   \n",
       "\n",
       "                                     summary  unix_review_time  vote image  \n",
       "0  A story children will love and learn from        1112140800   NaN   NaN  \n",
       "1                                 Five Stars        1466380800   NaN   NaN  \n",
       "2                                 Five Stars        1453593600   NaN   NaN  \n",
       "3                                 Five Stars        1436400000   NaN   NaN  \n",
       "4                                 Five Stars        1421539200   NaN   NaN  "
      ]
     },
     "execution_count": 371,
     "metadata": {},
     "output_type": "execute_result"
    }
   ],
   "source": [
    "json_file_name = 'Books_5_1000_lines.json'\n",
    "\n",
    "df = pd.read_json('../data/' + json_file_name, lines=True)\n",
    "\n",
    "df.columns = ['overall', 'verified', 'review_time', 'reviewer_id', \\\n",
    "              'asin', 'style', 'reviewer_name', 'review_text', \\\n",
    "               'summary', 'unix_review_time', 'vote', 'image']\n",
    "df.head()"
   ]
  },
  {
   "cell_type": "code",
   "execution_count": 151,
   "metadata": {},
   "outputs": [
    {
     "data": {
      "text/plain": [
       "(1000, 12)"
      ]
     },
     "execution_count": 151,
     "metadata": {},
     "output_type": "execute_result"
    }
   ],
   "source": [
    "df.shape"
   ]
  },
  {
   "cell_type": "markdown",
   "metadata": {},
   "source": [
    "### Histogram of Product Ratings - `overall`\n",
    "- Most product ratings are 5 stars"
   ]
  },
  {
   "cell_type": "code",
   "execution_count": 152,
   "metadata": {},
   "outputs": [
    {
     "data": {
      "text/plain": [
       "1     50\n",
       "2     29\n",
       "3     90\n",
       "4    124\n",
       "5    707\n",
       "Name: overall, dtype: int64"
      ]
     },
     "execution_count": 152,
     "metadata": {},
     "output_type": "execute_result"
    }
   ],
   "source": [
    "df.overall.value_counts().sort_index()"
   ]
  },
  {
   "cell_type": "code",
   "execution_count": 153,
   "metadata": {},
   "outputs": [],
   "source": [
    "def bins_labels(bins, **kwargs):\n",
    "    bin_w = (max(bins) - min(bins)) / (len(bins) - 1)\n",
    "    plt.xticks(np.arange(min(bins)+bin_w/2, max(bins), bin_w), bins, **kwargs)\n",
    "    plt.xlim(bins[0], bins[-1])"
   ]
  },
  {
   "cell_type": "code",
   "execution_count": 154,
   "metadata": {},
   "outputs": [
    {
     "data": {
      "image/png": "[encoded data removed]",
      "text/plain": [
       "<Figure size 432x288 with 1 Axes>"
      ]
     },
     "metadata": {
      "needs_background": "light"
     },
     "output_type": "display_data"
    }
   ],
   "source": [
    "bins = range(1, df.overall.max()+2)\n",
    "plt.hist(df.overall, bins=bins, alpha=0.8)\n",
    "bins_labels(bins, fontsize=15)\n",
    "plt.xlabel('Product Ratings')\n",
    "plt.ylabel('Rating Count')\n",
    "plt.show()"
   ]
  },
  {
   "cell_type": "markdown",
   "metadata": {},
   "source": [
    "### Histogram of `verified`\n",
    "- Sizable portion of not verified\n",
    "- If thrown away, lose 25% of data"
   ]
  },
  {
   "cell_type": "code",
   "execution_count": 247,
   "metadata": {},
   "outputs": [
    {
     "data": {
      "text/plain": [
       "True     768\n",
       "False    232\n",
       "Name: verified, dtype: int64"
      ]
     },
     "execution_count": 247,
     "metadata": {},
     "output_type": "execute_result"
    }
   ],
   "source": [
    "df.verified.value_counts()"
   ]
  },
  {
   "cell_type": "code",
   "execution_count": 246,
   "metadata": {},
   "outputs": [
    {
     "data": {
      "image/png": "[encoded data removed]",
      "text/plain": [
       "<Figure size 432x288 with 1 Axes>"
      ]
     },
     "metadata": {
      "needs_background": "light"
     },
     "output_type": "display_data"
    }
   ],
   "source": [
    "bins = range(df.verified.astype(int).max()+2)\n",
    "plt.hist(df.verified.astype(int), bins=bins, alpha=0.8)\n",
    "bins_labels(bins, fontsize=15)\n",
    "plt.xlabel('Product Ratings')\n",
    "plt.ylabel('Rating Count')\n",
    "plt.show()"
   ]
  },
  {
   "cell_type": "markdown",
   "metadata": {},
   "source": [
    "### Convert `review_time` to `datetime`"
   ]
  },
  {
   "cell_type": "code",
   "execution_count": 168,
   "metadata": {},
   "outputs": [
    {
     "data": {
      "text/html": [
       "<div>\n",
       "<style scoped>\n",
       "    .dataframe tbody tr th:only-of-type {\n",
       "        vertical-align: middle;\n",
       "    }\n",
       "\n",
       "    .dataframe tbody tr th {\n",
       "        vertical-align: top;\n",
       "    }\n",
       "\n",
       "    .dataframe thead th {\n",
       "        text-align: right;\n",
       "    }\n",
       "</style>\n",
       "<table border=\"1\" class=\"dataframe\">\n",
       "  <thead>\n",
       "    <tr style=\"text-align: right;\">\n",
       "      <th></th>\n",
       "      <th>review_time</th>\n",
       "    </tr>\n",
       "  </thead>\n",
       "  <tbody>\n",
       "    <tr>\n",
       "      <th>0</th>\n",
       "      <td>03 30, 2005</td>\n",
       "    </tr>\n",
       "    <tr>\n",
       "      <th>1</th>\n",
       "      <td>06 20, 2016</td>\n",
       "    </tr>\n",
       "    <tr>\n",
       "      <th>2</th>\n",
       "      <td>01 24, 2016</td>\n",
       "    </tr>\n",
       "    <tr>\n",
       "      <th>3</th>\n",
       "      <td>07 9, 2015</td>\n",
       "    </tr>\n",
       "    <tr>\n",
       "      <th>4</th>\n",
       "      <td>01 18, 2015</td>\n",
       "    </tr>\n",
       "  </tbody>\n",
       "</table>\n",
       "</div>"
      ],
      "text/plain": [
       "   review_time\n",
       "0  03 30, 2005\n",
       "1  06 20, 2016\n",
       "2  01 24, 2016\n",
       "3   07 9, 2015\n",
       "4  01 18, 2015"
      ]
     },
     "execution_count": 168,
     "metadata": {},
     "output_type": "execute_result"
    }
   ],
   "source": [
    "df[['review_time']].head()"
   ]
  },
  {
   "cell_type": "code",
   "execution_count": 169,
   "metadata": {},
   "outputs": [
    {
     "name": "stdout",
     "output_type": "stream",
     "text": [
      "<class 'pandas.core.frame.DataFrame'>\n",
      "RangeIndex: 1000 entries, 0 to 999\n",
      "Data columns (total 1 columns):\n",
      " #   Column       Non-Null Count  Dtype \n",
      "---  ------       --------------  ----- \n",
      " 0   review_time  1000 non-null   object\n",
      "dtypes: object(1)\n",
      "memory usage: 7.9+ KB\n"
     ]
    }
   ],
   "source": [
    "df[['review_time']].info()"
   ]
  },
  {
   "cell_type": "code",
   "execution_count": 170,
   "metadata": {},
   "outputs": [],
   "source": [
    "df['review_time'] = pd.to_datetime(df['review_time'], format='%m %d, %Y')"
   ]
  },
  {
   "cell_type": "code",
   "execution_count": 171,
   "metadata": {},
   "outputs": [
    {
     "name": "stdout",
     "output_type": "stream",
     "text": [
      "<class 'pandas.core.frame.DataFrame'>\n",
      "RangeIndex: 1000 entries, 0 to 999\n",
      "Data columns (total 1 columns):\n",
      " #   Column       Non-Null Count  Dtype         \n",
      "---  ------       --------------  -----         \n",
      " 0   review_time  1000 non-null   datetime64[ns]\n",
      "dtypes: datetime64[ns](1)\n",
      "memory usage: 7.9 KB\n"
     ]
    }
   ],
   "source": [
    "df[['review_time']].info()"
   ]
  },
  {
   "cell_type": "code",
   "execution_count": 174,
   "metadata": {},
   "outputs": [
    {
     "data": {
      "text/plain": [
       "0   2005-03-30\n",
       "1   2016-06-20\n",
       "2   2016-01-24\n",
       "3   2015-07-09\n",
       "4   2015-01-18\n",
       "Name: review_time, dtype: datetime64[ns]"
      ]
     },
     "execution_count": 174,
     "metadata": {},
     "output_type": "execute_result"
    }
   ],
   "source": [
    "df['review_time'].head()"
   ]
  },
  {
   "cell_type": "code",
   "execution_count": 172,
   "metadata": {},
   "outputs": [
    {
     "data": {
      "text/plain": [
       "0      March\n",
       "1       June\n",
       "2    January\n",
       "3       July\n",
       "4    January\n",
       "Name: review_time, dtype: object"
      ]
     },
     "execution_count": 172,
     "metadata": {},
     "output_type": "execute_result"
    }
   ],
   "source": [
    "df['review_time'].dt.month_name()[:5]"
   ]
  },
  {
   "cell_type": "markdown",
   "metadata": {},
   "source": [
    "### Distributin of Review Time\n",
    "- Only day, month, year\n",
    "- No time of day (hour, minute)"
   ]
  },
  {
   "cell_type": "markdown",
   "metadata": {},
   "source": [
    "**Review by Year**"
   ]
  },
  {
   "cell_type": "code",
   "execution_count": 209,
   "metadata": {},
   "outputs": [
    {
     "data": {
      "image/png": "[encoded data removed]",
      "text/plain": [
       "<Figure size 432x288 with 1 Axes>"
      ]
     },
     "metadata": {
      "needs_background": "light"
     },
     "output_type": "display_data"
    }
   ],
   "source": [
    "bins = range(df.review_time.dt.year.min(), df.review_time.dt.year.max()+2)\n",
    "plt.hist(df.review_time.dt.year, bins=bins, alpha=0.8)\n",
    "bins_labels(bins, fontsize=10)\n",
    "plt.xticks(rotation='vertical')\n",
    "plt.xlabel('Year')\n",
    "plt.ylabel('Count')\n",
    "plt.show()"
   ]
  },
  {
   "cell_type": "markdown",
   "metadata": {},
   "source": [
    "**<center>Compare with AMZN stock prices taking off in 2013</center>**\n",
    "<img src=\"img/amzn.jpg\" style=\"width:600px;height:300px\"/>"
   ]
  },
  {
   "cell_type": "markdown",
   "metadata": {},
   "source": [
    "**Review by Month**\n",
    "- Correspond to Christmas & New Year holidays"
   ]
  },
  {
   "cell_type": "code",
   "execution_count": 232,
   "metadata": {},
   "outputs": [
    {
     "data": {
      "image/png": "[encoded data removed]",
      "text/plain": [
       "<Figure size 432x288 with 1 Axes>"
      ]
     },
     "metadata": {
      "needs_background": "light"
     },
     "output_type": "display_data"
    }
   ],
   "source": [
    "bins = range(1, df.review_time.dt.month.max()+2)\n",
    "plt.hist(df.review_time.dt.month, bins=bins, alpha=0.8)\n",
    "bins_labels(bins, fontsize=10)\n",
    "plt.xlabel('Month')\n",
    "plt.ylabel('Count')\n",
    "plt.show()"
   ]
  },
  {
   "cell_type": "markdown",
   "metadata": {},
   "source": [
    "### Check Null Values for these fields - MUST check full dataset\n",
    "- overall - No missing values\n",
    "- asin (Product ID) - No missing values\n",
    "- summary (May need it for NLP improvement) - Missing values = 27164983-27157177 = 7,806 out of 27 millions\n",
    "- review_text (May need it for NLP improvement) - Missing values = 27164983-27161262 = 3,721 out of 27 millions"
   ]
  },
  {
   "cell_type": "markdown",
   "metadata": {},
   "source": [
    "**For the first 1000 lines**"
   ]
  },
  {
   "cell_type": "code",
   "execution_count": 233,
   "metadata": {},
   "outputs": [
    {
     "name": "stdout",
     "output_type": "stream",
     "text": [
      "<class 'pandas.core.frame.DataFrame'>\n",
      "RangeIndex: 1000 entries, 0 to 999\n",
      "Data columns (total 12 columns):\n",
      " #   Column            Non-Null Count  Dtype         \n",
      "---  ------            --------------  -----         \n",
      " 0   overall           1000 non-null   int64         \n",
      " 1   verified          1000 non-null   bool          \n",
      " 2   review_time       1000 non-null   datetime64[ns]\n",
      " 3   reviewer_id       1000 non-null   object        \n",
      " 4   asin              1000 non-null   int64         \n",
      " 5   style             964 non-null    object        \n",
      " 6   reviewer_name     1000 non-null   object        \n",
      " 7   review_text       1000 non-null   object        \n",
      " 8   summary           1000 non-null   object        \n",
      " 9   unix_review_time  1000 non-null   int64         \n",
      " 10  vote              160 non-null    float64       \n",
      " 11  image             3 non-null      object        \n",
      "dtypes: bool(1), datetime64[ns](1), float64(1), int64(3), object(6)\n",
      "memory usage: 87.0+ KB\n"
     ]
    }
   ],
   "source": [
    "df.info()"
   ]
  },
  {
   "cell_type": "markdown",
   "metadata": {},
   "source": [
    "### Check full dataset using `chunksize`\n",
    "- Count total lines of not null\n",
    "- Compare with total lines\n",
    "<br><br>\n",
    "- File size = 20.8 GB\n",
    "- Total number of lines = 27,164,983"
   ]
  },
  {
   "cell_type": "markdown",
   "metadata": {},
   "source": [
    "### Validate product reviews `overall` contains only 1, 2, 3, 4, and 5\n",
    "- Use set()\n",
    "- There are 3 product reviews = 0 (out of 27 millions); Delete them"
   ]
  },
  {
   "cell_type": "code",
   "execution_count": 381,
   "metadata": {},
   "outputs": [
    {
     "data": {
      "text/plain": [
       "<pandas.io.json._json.JsonReader at 0x2502a4db948>"
      ]
     },
     "execution_count": 381,
     "metadata": {},
     "output_type": "execute_result"
    }
   ],
   "source": [
    "#json_file_name = 'Books_5_1000_lines.json'\n",
    "#chunk=10\n",
    "\n",
    "json_file_name = 'Books_5.json'\n",
    "chunk = 1000000\n",
    "\n",
    "count_overall = count_asin = count_summary = count_review_text = 0\n",
    "count_total = 0\n",
    "set_overall = set()\n",
    "\n",
    "df_full = pd.read_json('../data/' + json_file_name, lines=True, chunksize=chunk)\n",
    "df_full"
   ]
  },
  {
   "cell_type": "code",
   "execution_count": 382,
   "metadata": {},
   "outputs": [
    {
     "name": "stdout",
     "output_type": "stream",
     "text": [
      "Start time = Tue Mar 17 20:41:46 2020\n",
      "Processing 0\n",
      "Processing 1000000\n",
      "Processing 2000000\n",
      "Processing 3000000\n",
      "Processing 4000000\n",
      "Processing 5000000\n",
      "Processing 6000000\n",
      "Processing 7000000\n",
      "Processing 8000000\n",
      "Processing 9000000\n",
      "Processing 10000000\n",
      "Processing 11000000\n",
      "Processing 12000000\n",
      "Processing 13000000\n",
      "Processing 14000000\n",
      "Processing 15000000\n",
      "Processing 16000000\n",
      "Processing 17000000\n",
      "Processing 18000000\n",
      "Processing 19000000\n",
      "Processing 20000000\n",
      "Processing 21000000\n",
      "Processing 22000000\n",
      "Processing 23000000\n",
      "Processing 24000000\n",
      "Processing 25000000\n",
      "Processing 26000000\n",
      "Processing 27000000\n",
      "Completion time = Tue Mar 17 20:51:00 2020\n"
     ]
    }
   ],
   "source": [
    "import time\n",
    "\n",
    "print(f'Start time = {time.ctime()}')\n",
    "\n",
    "for chunk in df_full:\n",
    "    print(f'Processing {count_total}')\n",
    "    count_total += len(chunk)\n",
    "    \n",
    "    if 'overall' in chunk.columns:\n",
    "        count_overall += len(chunk[chunk.overall.notnull()])\n",
    "        \n",
    "        member = set(pd.unique(chunk.overall).flatten())\n",
    "        set_overall = set_overall.union(member)\n",
    "        \n",
    "    if 'asin' in chunk.columns:\n",
    "        count_asin += len(chunk[chunk.asin.notnull()])\n",
    "        \n",
    "    if 'summary' in chunk.columns:\n",
    "        count_summary += len(chunk[chunk.summary.notnull()])\n",
    "        \n",
    "    if 'reviewText' in chunk.columns:\n",
    "        count_review_text += len(chunk[chunk.reviewText.notnull()])\n",
    "\n",
    "print(f'Completion time = {time.ctime()}')"
   ]
  },
  {
   "cell_type": "code",
   "execution_count": 383,
   "metadata": {},
   "outputs": [
    {
     "data": {
      "text/plain": [
       "(27164983, 27164983, 27157177, 27161262, 27164983)"
      ]
     },
     "execution_count": 383,
     "metadata": {},
     "output_type": "execute_result"
    }
   ],
   "source": [
    "count_overall, count_asin, count_summary, count_review_text, count_total"
   ]
  },
  {
   "cell_type": "markdown",
   "metadata": {},
   "source": [
    "**Missing values of `summary`**\n",
    "- 7806"
   ]
  },
  {
   "cell_type": "code",
   "execution_count": 323,
   "metadata": {},
   "outputs": [
    {
     "data": {
      "text/plain": [
       "7806"
      ]
     },
     "execution_count": 323,
     "metadata": {},
     "output_type": "execute_result"
    }
   ],
   "source": [
    "27164983-27157177"
   ]
  },
  {
   "cell_type": "markdown",
   "metadata": {},
   "source": [
    "**Missing values of `review_text`**\n",
    "- 3721"
   ]
  },
  {
   "cell_type": "code",
   "execution_count": 324,
   "metadata": {},
   "outputs": [
    {
     "data": {
      "text/plain": [
       "3721"
      ]
     },
     "execution_count": 324,
     "metadata": {},
     "output_type": "execute_result"
    }
   ],
   "source": [
    "27164983-27161262"
   ]
  },
  {
   "cell_type": "markdown",
   "metadata": {},
   "source": [
    "### All possible values of product rating `overall`\n",
    "- There is 0 product rating"
   ]
  },
  {
   "cell_type": "code",
   "execution_count": 384,
   "metadata": {},
   "outputs": [
    {
     "data": {
      "text/plain": [
       "{0, 1, 2, 3, 4, 5}"
      ]
     },
     "execution_count": 384,
     "metadata": {},
     "output_type": "execute_result"
    }
   ],
   "source": [
    "set_overall"
   ]
  },
  {
   "cell_type": "markdown",
   "metadata": {},
   "source": [
    "### Profile product ratings\n",
    "- Only 3 production rating = 0; Delete them when run the model with full dataset"
   ]
  },
  {
   "cell_type": "code",
   "execution_count": 423,
   "metadata": {},
   "outputs": [
    {
     "data": {
      "text/plain": [
       "<pandas.io.json._json.JsonReader at 0x2502a16c5c8>"
      ]
     },
     "execution_count": 423,
     "metadata": {},
     "output_type": "execute_result"
    }
   ],
   "source": [
    "#json_file_name = 'Books_5_1000_lines.json'\n",
    "#chunk=10\n",
    "\n",
    "json_file_name = 'Books_5.json'\n",
    "chunk = 1000000\n",
    "\n",
    "df_profile_rating = pd.read_json('../data/' + json_file_name, lines=True, chunksize=chunk)\n",
    "df_profile_rating"
   ]
  },
  {
   "cell_type": "code",
   "execution_count": 424,
   "metadata": {},
   "outputs": [
    {
     "name": "stdout",
     "output_type": "stream",
     "text": [
      "Start time = Tue Mar 17 21:18:01 2020\n",
      "Processing 0\n",
      "Processing 1000000\n",
      "Processing 2000000\n",
      "Processing 3000000\n",
      "Processing 4000000\n",
      "Processing 5000000\n",
      "Processing 6000000\n",
      "Processing 7000000\n",
      "Processing 8000000\n",
      "Processing 9000000\n",
      "Processing 10000000\n",
      "Processing 11000000\n",
      "Processing 12000000\n",
      "Processing 13000000\n",
      "Processing 14000000\n",
      "Processing 15000000\n",
      "Processing 16000000\n",
      "Processing 17000000\n",
      "Processing 18000000\n",
      "Processing 19000000\n",
      "Processing 20000000\n",
      "Processing 21000000\n",
      "Processing 22000000\n",
      "Processing 23000000\n",
      "Processing 24000000\n",
      "Processing 25000000\n",
      "Processing 26000000\n",
      "Processing 27000000\n",
      "Completion time = Tue Mar 17 21:27:11 2020\n"
     ]
    }
   ],
   "source": [
    "import time\n",
    "\n",
    "print(f'Start time = {time.ctime()}')\n",
    "count_total = 0\n",
    "rating_dict = {}\n",
    "\n",
    "for chunk in df_profile_rating:\n",
    "    print(f'Processing {count_total}')\n",
    "    count_total += len(chunk)\n",
    "    \n",
    "    if 'overall' in chunk.columns:\n",
    "        \n",
    "        rating_new = chunk.overall.to_numpy()\n",
    "        unique, counts = np.unique(rating_new, return_counts=True)\n",
    "        rating_new = dict(zip(unique, counts))\n",
    "        \n",
    "        rating_dict = {k: rating_dict.get(k, 0) + rating_new.get(k, 0) \\\n",
    "                           for k in set(rating_dict) | set(rating_new)}\n",
    "        \n",
    "print(f'Completion time = {time.ctime()}')"
   ]
  },
  {
   "cell_type": "code",
   "execution_count": 431,
   "metadata": {},
   "outputs": [
    {
     "data": {
      "text/plain": [
       "{0: 3, 1: 827009, 2: 1007526, 3: 2380914, 4: 5906676, 5: 17042855}"
      ]
     },
     "execution_count": 431,
     "metadata": {},
     "output_type": "execute_result"
    }
   ],
   "source": [
    "rating_dict"
   ]
  },
  {
   "cell_type": "markdown",
   "metadata": {},
   "source": [
    "### Plot Product Review of full dataset"
   ]
  },
  {
   "cell_type": "code",
   "execution_count": 432,
   "metadata": {},
   "outputs": [],
   "source": [
    "rating_lists = sorted(rating_dict.items()) # sorted by key, return a list of tuples\n",
    "x, y = zip(*rating_lists) # unpack a list of pairs into two tuples"
   ]
  },
  {
   "cell_type": "code",
   "execution_count": 437,
   "metadata": {},
   "outputs": [
    {
     "data": {
      "image/png": "[encoded data removed]",
      "text/plain": [
       "<Figure size 432x288 with 1 Axes>"
      ]
     },
     "metadata": {
      "needs_background": "light"
     },
     "output_type": "display_data"
    }
   ],
   "source": [
    "plt.bar(x[1:], y[1:], align='center')\n",
    "plt.xticks(x[1:])\n",
    "plt.xlabel('Product Ratings')\n",
    "plt.ylabel('Rating Count')\n",
    "plt.show()"
   ]
  },
  {
   "cell_type": "code",
   "execution_count": null,
   "metadata": {},
   "outputs": [],
   "source": []
  }
 ],
 "metadata": {
  "kernelspec": {
   "display_name": "Python 3",
   "language": "python",
   "name": "python3"
  },
  "language_info": {
   "codemirror_mode": {
    "name": "ipython",
    "version": 3
   },
   "file_extension": ".py",
   "mimetype": "text/x-python",
   "name": "python",
   "nbconvert_exporter": "python",
   "pygments_lexer": "ipython3",
   "version": "3.7.6"
  }
 },
 "nbformat": 4,
 "nbformat_minor": 4
}
